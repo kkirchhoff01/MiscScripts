{
 "cells": [
  {
   "cell_type": "markdown",
   "metadata": {},
   "source": [
    "# RandomForestXGBoost.ipynb:\n",
    "\n",
    "This notebook contains the feature creation and implementation of the random forest and xgboost models. I have been using it mostly for running CV, but also to generate solutions.\n",
    "\n",
    "You will find all of the features (excluding the PCA) and models. The parameters of the XGBoost model have been tuned."
   ]
  },
  {
   "cell_type": "code",
   "execution_count": 1,
   "metadata": {
    "collapsed": false
   },
   "outputs": [
    {
     "name": "stderr",
     "output_type": "stream",
     "text": [
      "/home/kkirchhoff/Programming/Python/scikit-learn/sklearn/cross_validation.py:43: DeprecationWarning: This module has been deprecated in favor of the model_selection module into which all the refactored classes and functions are moved. Also note that the interface of the new CV iterators are different from that of this module. This module will be removed in 0.20.\n",
      "  \"This module will be removed in 0.20.\", DeprecationWarning)\n"
     ]
    }
   ],
   "source": [
    "import pandas as pd\n",
    "import numpy as np\n",
    "from matplotlib import rcParams\n",
    "from sklearn.ensemble import RandomForestRegressor, ExtraTreesRegressor, RandomForestClassifier, ExtraTreesClassifier\n",
    "from sklearn.linear_model import LogisticRegression\n",
    "from sklearn import preprocessing\n",
    "from sklearn import decomposition\n",
    "from sklearn.pipeline import Pipeline\n",
    "from sklearn.feature_selection import SelectFromModel, SelectKBest, chi2\n",
    "from sklearn.metrics import roc_auc_score\n",
    "import xgboost as xgb\n",
    "import numba\n",
    "from scipy.stats import pearsonr\n",
    "\n",
    "# Set false to run solution\n",
    "run_cv = True\n",
    "\n",
    "%reload_ext autotime\n",
    "%matplotlib inline"
   ]
  },
  {
   "cell_type": "code",
   "execution_count": 2,
   "metadata": {
    "collapsed": false
   },
   "outputs": [
    {
     "name": "stdout",
     "output_type": "stream",
     "text": [
      "time: 1.94 ms\n"
     ]
    }
   ],
   "source": [
    "# Set figsize for viewing feature importances with xgboost\n",
    "rcParams['figure.figsize'] = 20, 20"
   ]
  },
  {
   "cell_type": "markdown",
   "metadata": {},
   "source": [
    "## CSV Files:\n",
    "\n",
    "### CV Files\n",
    " - cv_train_preprocessed1.csv:\n",
    "  - CV file, created from act_train.csv. Split by people_id in same portion as act_train\n",
    "  - Contains PCA features from char_10-char_37 in people file\n",
    " - cv_test_preprocessed-interp.csv:\n",
    "  - CV file from act_train.csv. Split by people_id in same portaion as act_test\n",
    "  - Contains PCA features from char_10-char_37 in people file\n",
    "  - Also contains values calculated from interpolating using the leak data\n",
    "   - Link to interpolation method: https://www.kaggle.com/loisso/predicting-red-hat-business-value/lb-0-987-group-1-and-date-trick/discussion\n",
    "\n",
    "### Train/Test Files\n",
    " - train_pca.csv:\n",
    "  - act_train.csv with PCA features from people file\n",
    " - test_pca_outcome.csv:\n",
    "  - act_test.csv with PCA features from people file\n",
    "  - Contains outcome values obtained from leak\n",
    "  \n",
    "### PCA Files\n",
    " - people_pca_char1-9.csv:\n",
    "  - PCA of char_1-char_9 in people file\n",
    " - char_act_pca_2.csv:\n",
    "  - PCA of char_1-char_10 in act_train merged with act_test\n",
    " - dummy_people_pca.csv:\n",
    "  - PCA of people file with one-hot encoding"
   ]
  },
  {
   "cell_type": "code",
   "execution_count": 3,
   "metadata": {
    "collapsed": false
   },
   "outputs": [
    {
     "name": "stdout",
     "output_type": "stream",
     "text": [
      "time: 19.9 s\n"
     ]
    }
   ],
   "source": [
    "if run_cv == True:\n",
    "    train = pd.read_csv('cv_files/cv_train_preprocessed1.csv')\n",
    "    test = pd.read_csv('cv_files/cv_test_preprocessed-interp.csv')\n",
    "else:\n",
    "    train = pd.read_csv('train_pca.csv')\n",
    "    test = pd.read_csv('test_pca_outcome.csv')\n",
    "\n",
    "people_pca = pd.read_csv('people_pca_char1-9.csv')\n",
    "char_pca = pd.read_csv('char_act_pca_2.csv')\n",
    "dummy_pca = pd.read_csv('dummy_people_pca.csv')"
   ]
  },
  {
   "cell_type": "markdown",
   "metadata": {},
   "source": [
    "# Feature Creation"
   ]
  },
  {
   "cell_type": "code",
   "execution_count": 4,
   "metadata": {
    "collapsed": false
   },
   "outputs": [
    {
     "name": "stdout",
     "output_type": "stream",
     "text": [
      "time: 2.45 s\n"
     ]
    }
   ],
   "source": [
    "# Merge the train/test files with the PCA files\n",
    "\n",
    "if run_cv == True:\n",
    "    train['char_act_pca0'] = char_pca[:len(train)]['char_act_pca0'].values\n",
    "    train['char_act_pca1'] = char_pca[:len(train)]['char_act_pca1'].values\n",
    "    test['char_act_pca0'] = char_pca[len(train):]['char_act_pca0'].values\n",
    "    test['char_act_pca1'] = char_pca[len(train):]['char_act_pca1'].values\n",
    "\n",
    "train = pd.merge(train, people_pca, on='people_id', how='left')\n",
    "test = pd.merge(test, people_pca, on='people_id', how='left')\n",
    "\n",
    "train = pd.merge(train, dummy_pca, on='people_id', how='left')\n",
    "test = pd.merge(test, dummy_pca, on='people_id', how='left')"
   ]
  },
  {
   "cell_type": "code",
   "execution_count": 5,
   "metadata": {
    "collapsed": false
   },
   "outputs": [
    {
     "name": "stdout",
     "output_type": "stream",
     "text": [
      "time: 12.5 s\n"
     ]
    }
   ],
   "source": [
    "# Convert all of the boolean features to int\n",
    "\n",
    "train['char_10_y'] = train['char_10_y'].apply(int)\n",
    "test['char_10_y'] = test['char_10_y'].apply(int)\n",
    "for i in range(11, 38):\n",
    "    train['char_{}'.format(i)] = train['char_{}'.format(i)].apply(int)\n",
    "    test['char_{}'.format(i)] = test['char_{}'.format(i)].apply(int)"
   ]
  },
  {
   "cell_type": "code",
   "execution_count": 6,
   "metadata": {
    "collapsed": false
   },
   "outputs": [
    {
     "name": "stdout",
     "output_type": "stream",
     "text": [
      "time: 27.9 s\n"
     ]
    }
   ],
   "source": [
    "# get_date recreats the date because I accidently saved the files after dropping it.\n",
    "@numba.jit\n",
    "def get_date(x):\n",
    "    if x[1] < 10:\n",
    "        month = '0' + str(x[1])\n",
    "    else:\n",
    "        month = str(x[1])\n",
    "    if x[2] < 10:\n",
    "        day = '0' + str(x[2])\n",
    "    else:\n",
    "        day = str(x[2])\n",
    "    year = str(x[0])\n",
    "    return year + '-' + month + '-' + day\n",
    "\n",
    "train['date'] = map(get_date, train[['year_x', 'month_x','day_x']].values)\n",
    "test['date'] = map(get_date, test[['year_x', 'month_x','day_x']].values)\n",
    "\n",
    "# The outcome dictionary holds the group_1/date combinations and their outcome from the train file\n",
    "# This is how the value are obtained from the leak\n",
    "outcome = {}\n",
    "for row in train[['group_1', 'date', 'outcome']].values:\n",
    "    outcome[(row[0], row[1])] = row[2]\n",
    "\n",
    "# If the outcome is unknown it is assigned -1\n",
    "def get_outcome(x):\n",
    "    try:\n",
    "        return outcome[tuple(x)]\n",
    "    except:\n",
    "        return -1"
   ]
  },
  {
   "cell_type": "code",
   "execution_count": 7,
   "metadata": {
    "collapsed": false
   },
   "outputs": [
    {
     "name": "stdout",
     "output_type": "stream",
     "text": [
      "time: 24.4 s\n"
     ]
    }
   ],
   "source": [
    "# Get people date\n",
    "train['date_y'] = map(get_date, train[['year_y', 'month_y','day_y']].values)\n",
    "test['date_y'] = map(get_date, test[['year_y', 'month_y','day_y']].values)"
   ]
  },
  {
   "cell_type": "code",
   "execution_count": 8,
   "metadata": {
    "collapsed": false
   },
   "outputs": [
    {
     "name": "stdout",
     "output_type": "stream",
     "text": [
      "time: 4.2 s\n"
     ]
    }
   ],
   "source": [
    "# Since the leak revealed the outcome for a decent portion of the test file,\n",
    "# I appended the rows with known outcome into the train dataframe and removed them from the test dataframe\n",
    "if run_cv == True:\n",
    "    test.rename(columns={'outcome':'outcome_1'},inplace=True)\n",
    "    test['outcome'] = map(get_outcome, test[['group_1', 'date']].values)\n",
    "    train = train.append(test[test.outcome!=-1].drop(['outcome', 'outcome_interp'], axis=1).rename(columns={'outcome_1':'outcome'}))\n",
    "else:\n",
    "    train = train.append(test[test.outcome!=-1])"
   ]
  },
  {
   "cell_type": "code",
   "execution_count": 9,
   "metadata": {
    "collapsed": false
   },
   "outputs": [
    {
     "name": "stdout",
     "output_type": "stream",
     "text": [
      "time: 75.6 ms\n"
     ]
    }
   ],
   "source": [
    "test = test[test.outcome==-1]"
   ]
  },
  {
   "cell_type": "code",
   "execution_count": 10,
   "metadata": {
    "collapsed": false
   },
   "outputs": [
    {
     "name": "stdout",
     "output_type": "stream",
     "text": [
      "time: 87.4 ms\n"
     ]
    }
   ],
   "source": [
    "# Characteristic features from the activity files\n",
    "val_list = ['activity_category', 'char_1_x', 'char_2_x', 'char_3_x', 'char_4_x',\n",
    "            'char_5_x', 'char_6_x', 'char_7_x', 'char_8_x', 'char_9_x', 'char_10_x']\n",
    "\n",
    "# Characteristic features from the people file\n",
    "char_list = ['char_10_y', 'char_11', 'char_12',\n",
    "             'char_13', 'char_14', 'char_15', 'char_16', 'char_17', 'char_18',\n",
    "             'char_19', 'char_20', 'char_21', 'char_22', 'char_23', 'char_24',\n",
    "             'char_25', 'char_26', 'char_27', 'char_28', 'char_29', 'char_30',\n",
    "             'char_31', 'char_32', 'char_33', 'char_34', 'char_35', 'char_36', 'char_37']\n",
    "\n",
    "# Mean character type number\n",
    "@numba.jit\n",
    "def get_char(vals):\n",
    "    if vals[0] == 1:\n",
    "        return np.mean(vals[1:9])\n",
    "    else:\n",
    "        return vals[10]\n",
    "\n",
    "# Number of true values in people char_10-char_37\n",
    "@numba.jit\n",
    "def get_true(vals):\n",
    "    i = 0\n",
    "    for v in vals:\n",
    "        if v == True:\n",
    "            i +=1\n",
    "    return i\n",
    "\n",
    "# Number of false values in people char_10-char_37\n",
    "@numba.jit\n",
    "def get_false(vals):\n",
    "    i = 0\n",
    "    for v in vals:\n",
    "        if v == False:\n",
    "            i += 1\n",
    "    return i\n",
    "\n",
    "# Number of true values - number of false values\n",
    "@numba.jit\n",
    "def get_bool_diff(vals):\n",
    "    i = 0\n",
    "    for v in vals:\n",
    "        if v == True:\n",
    "            i += 1\n",
    "        elif v == False:\n",
    "            i -= 1\n",
    "    return i\n",
    "\n",
    "# Get the difference between the dates in the people and activity files\n",
    "@numba.jit\n",
    "def get_date_diff(d1, d2):\n",
    "    d = 0\n",
    "    for i in range(3):\n",
    "        d += np.abs(d1[i] - d2[i])\n",
    "    return d\n",
    "\n",
    "# Converts the date to number of days since 2002\n",
    "@numba.jit\n",
    "def get_date_num(d):\n",
    "    d1 = 0\n",
    "    d[0] = (d[0] - 2020)*365\n",
    "    d[1] = d[1]*30\n",
    "    for i in range(3):\n",
    "        d1 += d[i]\n",
    "    return d1\n",
    "\n",
    "# Ratio of days\n",
    "@numba.jit\n",
    "def get_date_rat(d1, d2):\n",
    "    d1_num = get_date_num(d1)\n",
    "    d2_num = get_date_num(d2)\n",
    "    return d1_num/d2_num\n",
    "\n",
    "# Sum of binary values in people file\n",
    "@numba.jit\n",
    "def binary_sum(row):\n",
    "    bsum = 0\n",
    "    for val in row:\n",
    "        bsum += val\n",
    "    return bsum"
   ]
  },
  {
   "cell_type": "code",
   "execution_count": 11,
   "metadata": {
    "collapsed": false
   },
   "outputs": [
    {
     "name": "stdout",
     "output_type": "stream",
     "text": [
      "time: 20.2 s\n"
     ]
    }
   ],
   "source": [
    "# Generate the features from the functions above\n",
    "train['char_x'] = map(get_char, train[val_list].values)\n",
    "test['char_x'] = map(get_char, test[val_list].values)\n",
    "train['true_count'] = map(get_true, train[char_list].values)\n",
    "train['false_count'] = map(get_false, train[char_list].values)\n",
    "test['true_count'] = map(get_true, test[char_list].values)\n",
    "test['false_count'] = map(get_false, test[char_list].values)\n",
    "train['bool_count'] = map(get_bool_diff, train[char_list].values)\n",
    "test['bool_count'] = map(get_bool_diff, test[char_list].values)\n",
    "train['binary_sum'] = map(binary_sum, train[['char_10_y'] + ['char_{}'.format(i) for i in range(11, 38)]].values)\n",
    "test['binary_sum'] = map(binary_sum, test[['char_10_y'] + ['char_{}'.format(i) for i in range(11, 38)]].values)"
   ]
  },
  {
   "cell_type": "code",
   "execution_count": 12,
   "metadata": {
    "collapsed": false,
    "scrolled": true
   },
   "outputs": [
    {
     "name": "stdout",
     "output_type": "stream",
     "text": [
      "time: 1.66 s\n"
     ]
    }
   ],
   "source": [
    "# Dictionaries containing the outcome mean and count by date\n",
    "date_mean_y = train.groupby('date_y')['outcome'].mean().to_dict()\n",
    "date_mean = train.groupby('date')['outcome'].mean().to_dict()\n",
    "\n",
    "date_count_y = train.groupby('date_y')['outcome'].count().to_dict()\n",
    "date_count = train.groupby('date')['outcome'].count().to_dict()\n",
    "\n",
    "date_mean['2022-01-16'] = 0.\n",
    "date_mean_y['2022-01-16'] = 0.\n",
    "date_count['2022-01-16'] = 0.\n",
    "date_count_y['2022-01-16'] = 0."
   ]
  },
  {
   "cell_type": "code",
   "execution_count": 13,
   "metadata": {
    "collapsed": false
   },
   "outputs": [
    {
     "name": "stdout",
     "output_type": "stream",
     "text": [
      "time: 3.37 s\n"
     ]
    }
   ],
   "source": [
    "# Get date mean and count from above dictionaries\n",
    "train['date_mean'] = train.date.apply(lambda x: date_mean[x])\n",
    "test['date_mean'] = test.date.apply(lambda x: date_mean[x])\n",
    "\n",
    "train['date_mean_y'] = train.date_y.apply(lambda x: date_mean_y[x])\n",
    "test['date_mean_y'] = test.date_y.apply(lambda x: date_mean_y[x])\n",
    "\n",
    "train['date_count'] = train.date.apply(lambda x: date_count[x])\n",
    "test['date_count'] = test.date.apply(lambda x: date_count[x])\n",
    "\n",
    "train['date_count_y'] = train.date_y.apply(lambda x: date_count_y[x])\n",
    "test['date_count_y'] = test.date_y.apply(lambda x: date_count_y[x])"
   ]
  },
  {
   "cell_type": "code",
   "execution_count": 14,
   "metadata": {
    "collapsed": false,
    "scrolled": true
   },
   "outputs": [
    {
     "name": "stdout",
     "output_type": "stream",
     "text": [
      "time: 31.6 s\n"
     ]
    }
   ],
   "source": [
    "# Label encode categorical features\n",
    "# Each feature has a new label encoder to decode if needed\n",
    "le = preprocessing.LabelEncoder()\n",
    "le.fit(list(train.people_id.unique()) + list(test.people_id.unique()))\n",
    "train['people'] = le.transform(train['people_id'])\n",
    "test['people'] = le.transform(test['people_id'])\n",
    "\n",
    "le2 = preprocessing.LabelEncoder()\n",
    "le2.fit(list(train['activity_id'].unique()) + list(test['activity_id'].unique()))\n",
    "train['activity'] = le2.transform(train['activity_id'])\n",
    "test['activity'] = le2.transform(test['activity_id'])\n",
    "\n",
    "le3 = preprocessing.LabelEncoder()\n",
    "le3.fit(list(train['date'].unique()) + list(test['date'].unique()))\n",
    "train['date'] = le3.transform(train['date'])\n",
    "test['date'] = le3.transform(test['date'])\n",
    "\n",
    "le4 = preprocessing.LabelEncoder()\n",
    "le4.fit(list(train['date_y'].unique()) + list(test['date_y'].unique()))\n",
    "train['date_y'] = le4.transform(train['date_y'])\n",
    "test['date_y'] = le4.transform(test['date_y'])"
   ]
  },
  {
   "cell_type": "code",
   "execution_count": 15,
   "metadata": {
    "collapsed": false
   },
   "outputs": [
    {
     "name": "stdout",
     "output_type": "stream",
     "text": [
      "time: 13.5 s\n"
     ]
    }
   ],
   "source": [
    "# Get date features from functions above\n",
    "train['date_num'] = map(get_date_num, train[['year_x', 'month_x', 'day_x']].values)\n",
    "test['date_num'] = map(get_date_num, test[['year_x', 'month_x', 'day_x']].values)\n",
    "\n",
    "train['date_diff'] = map(get_date_diff, train[['year_x', 'month_x', 'day_x']].values,\n",
    "                         train[['year_y', 'month_y', 'day_y']].values)\n",
    "test['date_diff'] = map(get_date_diff, test[['year_x', 'month_x', 'day_x']].values,\n",
    "                        test[['year_y', 'month_y', 'day_y']].values)\n",
    "\n",
    "train['date_rat'] = map(get_date_diff, train[['year_x', 'month_x', 'day_x']].values,\n",
    "                         train[['year_y', 'month_y', 'day_y']].values)\n",
    "test['date_rat'] = map(get_date_diff, test[['year_x', 'month_x', 'day_x']].values,\n",
    "                        test[['year_y', 'month_y', 'day_y']].values)"
   ]
  },
  {
   "cell_type": "code",
   "execution_count": 16,
   "metadata": {
    "collapsed": false
   },
   "outputs": [
    {
     "name": "stdout",
     "output_type": "stream",
     "text": [
      "time: 17 s\n"
     ]
    }
   ],
   "source": [
    "# Generate features from sums\n",
    "train['char_sum'] = map(sum, train[['char_{}_y'.format(i) for i in range(1,10)]].values)\n",
    "test['char_sum'] = map(sum, test[['char_{}_y'.format(i) for i in range(1,10)]].values)\n",
    "\n",
    "train['char_pca_sum'] = map(sum, train[['char_pca{}'.format(i) for i in range(10)]].values)\n",
    "test['char_pca_sum'] = map(sum, test[['char_pca{}'.format(i) for i in range(10)]].values)"
   ]
  },
  {
   "cell_type": "code",
   "execution_count": 17,
   "metadata": {
    "collapsed": false
   },
   "outputs": [
    {
     "name": "stdout",
     "output_type": "stream",
     "text": [
      "time: 775 ms\n"
     ]
    }
   ],
   "source": [
    "# Scale char_38 by dividing by 100 (max value)\n",
    "# Improves some model performances\n",
    "train['char_38_scaled'] = train['char_38'].apply(lambda x: float(x/100.))\n",
    "test['char_38_scaled'] = test['char_38'].apply(lambda x: float(x/100.))"
   ]
  },
  {
   "cell_type": "code",
   "execution_count": 18,
   "metadata": {
    "collapsed": false,
    "scrolled": true
   },
   "outputs": [
    {
     "name": "stdout",
     "output_type": "stream",
     "text": [
      "time: 769 ms\n"
     ]
    }
   ],
   "source": [
    "# Get feature from mean outcome by char_38\n",
    "\n",
    "char_mean = train.groupby('char_38')['outcome'].mean().to_dict()\n",
    "def get_char_mean(x):\n",
    "    try:\n",
    "        return char_mean[tuple(x)]\n",
    "    except:\n",
    "        return 0."
   ]
  },
  {
   "cell_type": "code",
   "execution_count": 19,
   "metadata": {
    "collapsed": false
   },
   "outputs": [
    {
     "name": "stdout",
     "output_type": "stream",
     "text": [
      "time: 3.29 s\n"
     ]
    }
   ],
   "source": [
    "train['char_mean'] = train['char_38'].apply(get_char_mean)\n",
    "test['char_mean'] = test['char_38'].apply(get_char_mean)"
   ]
  },
  {
   "cell_type": "code",
   "execution_count": 20,
   "metadata": {
    "collapsed": false
   },
   "outputs": [
    {
     "name": "stdout",
     "output_type": "stream",
     "text": [
      "time: 1.22 s\n"
     ]
    }
   ],
   "source": [
    "# Fill N/A values with arbitrary number (-999) has performed the best\n",
    "# Dropping N/A will remove every column, since activity files all have N/A based on the activity type\n",
    "train.fillna(-999, inplace=True)\n",
    "test.fillna(-999, inplace=True)"
   ]
  },
  {
   "cell_type": "code",
   "execution_count": 21,
   "metadata": {
    "collapsed": false
   },
   "outputs": [
    {
     "name": "stdout",
     "output_type": "stream",
     "text": [
      "time: 31.6 ms\n"
     ]
    }
   ],
   "source": [
    "# X_all contains all of the features generated and the PCA features\n",
    "# Use this to get most important features after running the model\n",
    "X_all = ['activity_category',\n",
    "         'activity',\n",
    "         'people',\n",
    "         'char_x',\n",
    "         'year_x',\n",
    "         'month_x',\n",
    "         'day_x',\n",
    "         'date',\n",
    "         'date_y',\n",
    "         'group_1',\n",
    "         'dummy_pca_0',\n",
    "         'dummy_pca_1',\n",
    "         #'people_char_pca_0',\n",
    "         #'people_char_pca_1',\n",
    "         #'people_char_pca_2',\n",
    "         'char_2_y',\n",
    "         'char_10_y',\n",
    "         'char_3_y',\n",
    "         'char_4_y',\n",
    "         'char_5_y',\n",
    "         'char_6_y',\n",
    "         'char_7_y',\n",
    "         'char_8_y',\n",
    "         'char_9_y',\n",
    "         'char_pca0',\n",
    "         'char_pca1',\n",
    "         'char_pca2',\n",
    "         'char_pca3',\n",
    "         'char_pca4',\n",
    "         'char_pca5',\n",
    "         'char_pca6',\n",
    "         'char_pca7',\n",
    "         'char_pca8',\n",
    "         'char_pca9',\n",
    "         'char_sum',\n",
    "         'char_pca_sum',\n",
    "         'char_38',\n",
    "         'unique_group',\n",
    "         'unique_char10',\n",
    "         'char_act_pca0',\n",
    "         'char_act_pca1',\n",
    "         'date_diff',\n",
    "         'date_num',\n",
    "         'date_rat',\n",
    "         'date_mean',\n",
    "         'date_mean_y',\n",
    "         'date_count',\n",
    "         'date_count_y',\n",
    "         'true_count',\n",
    "         'false_count',\n",
    "         'bool_count',\n",
    "         #'char_act_pca2'\n",
    "         'binary_sum',\n",
    "         'char_mean'\n",
    "         #'activity_count'\n",
    "        ]\n",
    "X_all = X_all + ['char_{}'.format(i) for i in range(11,38)] + ['char_{}_x'.format(i) for i in range(1,10)]\n",
    "y = 'outcome'"
   ]
  },
  {
   "cell_type": "markdown",
   "metadata": {},
   "source": [
    "# Random Forest Model"
   ]
  },
  {
   "cell_type": "code",
   "execution_count": 52,
   "metadata": {
    "collapsed": false
   },
   "outputs": [
    {
     "name": "stdout",
     "output_type": "stream",
     "text": [
      "time: 2.43 ms\n"
     ]
    }
   ],
   "source": [
    "# Random forest model\n",
    "# I use n_estimators=400 for CV\n",
    "# Real solution has n_estimators=1500\n",
    "clf = RandomForestClassifier(n_estimators=400, verbose=2, n_jobs=5, random_state=42)"
   ]
  },
  {
   "cell_type": "code",
   "execution_count": 56,
   "metadata": {
    "collapsed": false
   },
   "outputs": [
    {
     "data": {
      "text/plain": [
       "RandomForestClassifier(bootstrap=True, class_weight=None, criterion='gini',\n",
       "            max_depth=None, max_features='auto', max_leaf_nodes=None,\n",
       "            min_samples_leaf=1, min_samples_split=2,\n",
       "            min_weight_fraction_leaf=0.0, n_estimators=400, n_jobs=5,\n",
       "            oob_score=False, random_state=42, verbose=2, warm_start=False)"
      ]
     },
     "execution_count": 56,
     "metadata": {},
     "output_type": "execute_result"
    },
    {
     "name": "stdout",
     "output_type": "stream",
     "text": [
      "time: 6.96 ms\n"
     ]
    }
   ],
   "source": [
    "clf.set_params(n_estimators=1000, verbose=1, n_jobs=5, random_state=42)"
   ]
  },
  {
   "cell_type": "code",
   "execution_count": 57,
   "metadata": {
    "collapsed": true
   },
   "outputs": [
    {
     "name": "stdout",
     "output_type": "stream",
     "text": [
      "building tree 1 of 400\n",
      "building tree 2 of 400\n",
      "building tree 3 of 400\n",
      "building tree 4 of 400\n",
      "building tree 5 of 400\n",
      "building tree 6 of 400\n",
      "building tree 7 of 400\n",
      "building tree 8 of 400\n",
      "building tree 9 of 400\n",
      "building tree 10 of 400\n",
      "building tree 11 of 400\n",
      "building tree 12 of 400\n",
      "building tree 13 of 400\n",
      "building tree 14 of 400\n",
      "building tree 15 of 400\n",
      "building tree 16 of 400\n",
      "building tree 17 of 400\n",
      "building tree 18 of 400\n",
      "building tree 19 of 400\n",
      "building tree 20 of 400\n",
      "building tree 21 of 400\n",
      "building tree 22 of 400\n",
      "building tree 23 of 400\n",
      "building tree 24 of 400\n",
      "building tree 25 of 400\n",
      "building tree 26 of 400\n",
      "building tree 27 of 400\n",
      "building tree 28 of 400\n",
      "building tree 29 of 400\n",
      "building tree 30 of 400\n",
      "building tree 31 of 400\n",
      "building tree 32 of 400\n",
      "building tree 33 of 400\n",
      "building tree 34 of 400\n",
      "building tree 35 of 400\n",
      "building tree 36 of 400\n",
      "building tree 37 of 400\n"
     ]
    },
    {
     "name": "stderr",
     "output_type": "stream",
     "text": [
      "[Parallel(n_jobs=5)]: Done  31 tasks      | elapsed:   35.7s\n"
     ]
    },
    {
     "name": "stdout",
     "output_type": "stream",
     "text": [
      "building tree 38 of 400\n",
      "building tree 39 of 400\n",
      "building tree 40 of 400\n",
      "building tree 41 of 400\n",
      "building tree 42 of 400\n",
      "building tree 43 of 400\n",
      "building tree 44 of 400\n",
      "building tree 45 of 400\n",
      "building tree 46 of 400\n",
      "building tree 47 of 400\n",
      "building tree 48 of 400\n",
      "building tree 49 of 400\n",
      "building tree 50 of 400\n",
      "building tree 51 of 400\n",
      "building tree 52 of 400\n",
      "building tree 53 of 400\n",
      "building tree 54 of 400\n",
      "building tree 55 of 400\n",
      "building tree 56 of 400\n",
      "building tree 57 of 400\n",
      "building tree 58 of 400\n",
      "building tree 59 of 400\n",
      "building tree 60 of 400\n",
      "building tree 61 of 400\n",
      "building tree 62 of 400\n",
      "building tree 63 of 400\n",
      "building tree 64 of 400\n",
      "building tree 65 of 400\n",
      "building tree 66 of 400\n",
      "building tree 67 of 400\n",
      "building tree 68 of 400\n",
      "building tree 69 of 400\n",
      "building tree 70 of 400\n",
      "building tree 71 of 400\n",
      "building tree 72 of 400\n",
      "building tree 73 of 400\n",
      "building tree 74 of 400\n",
      "building tree 75 of 400\n",
      "building tree 76 of 400\n",
      "building tree 77 of 400\n",
      "building tree 78 of 400\n",
      "building tree 79 of 400\n",
      "building tree 80 of 400\n",
      "building tree 81 of 400\n",
      "building tree 82 of 400\n",
      "building tree 83 of 400\n",
      "building tree 84 of 400\n",
      "building tree 85 of 400\n",
      "building tree 86 of 400\n",
      "building tree 87 of 400\n",
      "building tree 88 of 400\n",
      "building tree 89 of 400\n",
      "building tree 90 of 400\n",
      "building tree 91 of 400\n",
      "building tree 92 of 400\n",
      "building tree 93 of 400\n",
      "building tree 94 of 400\n",
      "building tree 95 of 400\n",
      "building tree 96 of 400\n",
      "building tree 97 of 400\n",
      "building tree 98 of 400\n",
      "building tree 99 of 400\n",
      "building tree 100 of 400\n",
      "building tree 101 of 400\n",
      "building tree 102 of 400\n",
      "building tree 103 of 400\n",
      "building tree 104 of 400\n",
      "building tree 105 of 400\n",
      "building tree 106 of 400\n",
      "building tree 107 of 400\n",
      "building tree 108 of 400\n",
      "building tree 109 of 400\n",
      "building tree 110 of 400\n",
      "building tree 111 of 400\n",
      "building tree 112 of 400\n",
      "building tree 113 of 400\n",
      "building tree 114 of 400\n",
      "building tree 115 of 400\n",
      "building tree 116 of 400\n",
      "building tree 117 of 400\n",
      "building tree 118 of 400\n",
      "building tree 119 of 400\n",
      "building tree 120 of 400\n",
      "building tree 121 of 400\n",
      "building tree 122 of 400\n",
      "building tree 123 of 400\n",
      "building tree 124 of 400\n",
      "building tree 125 of 400\n",
      "building tree 126 of 400\n",
      "building tree 127 of 400\n",
      "building tree 128 of 400\n",
      "building tree 129 of 400\n",
      "building tree 130 of 400\n",
      "building tree 131 of 400\n",
      "building tree 132 of 400\n",
      "building tree 133 of 400\n",
      "building tree 134 of 400\n",
      "building tree 135 of 400\n",
      "building tree 136 of 400\n",
      "building tree 137 of 400\n",
      "building tree 138 of 400\n",
      "building tree 139 of 400\n",
      "building tree 140 of 400\n",
      "building tree 141 of 400\n",
      "building tree 142 of 400\n",
      "building tree 143 of 400\n",
      "building tree 144 of 400\n",
      "building tree 145 of 400\n",
      "building tree 146 of 400\n",
      "building tree 147 of 400\n",
      "building tree 148 of 400\n",
      "building tree 149 of 400\n",
      "building tree 150 of 400\n",
      "building tree 151 of 400\n",
      "building tree 152 of 400\n",
      "building tree 153 of 400\n",
      "building tree 154 of 400\n",
      "building tree 155 of 400\n",
      "building tree 156 of 400\n",
      "building tree 157 of 400\n"
     ]
    },
    {
     "name": "stderr",
     "output_type": "stream",
     "text": [
      "[Parallel(n_jobs=5)]: Done 152 tasks      | elapsed:  2.6min\n"
     ]
    },
    {
     "name": "stdout",
     "output_type": "stream",
     "text": [
      "building tree 158 of 400\n",
      "building tree 159 of 400\n",
      "building tree 160 of 400\n",
      "building tree 161 of 400\n",
      "building tree 162 of 400\n",
      "building tree 163 of 400\n",
      "building tree 164 of 400\n",
      "building tree 165 of 400\n",
      "building tree 166 of 400\n",
      "building tree 167 of 400\n",
      "building tree 168 of 400\n",
      "building tree 169 of 400\n",
      "building tree 170 of 400\n",
      "building tree 171 of 400\n",
      "building tree 172 of 400\n",
      "building tree 173 of 400\n",
      "building tree 174 of 400\n",
      "building tree 175 of 400\n",
      "building tree 176 of 400\n",
      "building tree 177 of 400\n",
      "building tree 178 of 400\n",
      "building tree 179 of 400\n",
      "building tree 180 of 400\n",
      "building tree 181 of 400\n",
      "building tree 182 of 400\n",
      "building tree 183 of 400\n",
      "building tree 184 of 400\n",
      "building tree 185 of 400\n",
      "building tree 186 of 400\n",
      "building tree 187 of 400\n",
      "building tree 188 of 400\n",
      "building tree 189 of 400\n",
      "building tree 190 of 400\n",
      "building tree 191 of 400\n",
      "building tree 192 of 400\n",
      "building tree 193 of 400\n",
      "building tree 194 of 400\n",
      "building tree 195 of 400\n",
      "building tree 196 of 400\n",
      "building tree 197 of 400\n",
      "building tree 198 of 400\n",
      "building tree 199 of 400\n",
      "building tree 200 of 400\n",
      "building tree 201 of 400\n",
      "building tree 202 of 400\n",
      "building tree 203 of 400\n",
      "building tree 204 of 400\n",
      "building tree 205 of 400\n",
      "building tree 206 of 400\n",
      "building tree 207 of 400\n",
      "building tree 208 of 400\n",
      "building tree 209 of 400\n",
      "building tree 210 of 400\n",
      "building tree 211 of 400\n",
      "building tree 212 of 400\n",
      "building tree 213 of 400\n",
      "building tree 214 of 400\n",
      "building tree 215 of 400\n",
      "building tree 216 of 400\n",
      "building tree 217 of 400\n",
      "building tree 218 of 400\n",
      "building tree 219 of 400\n",
      "building tree 220 of 400\n",
      "building tree 221 of 400\n",
      "building tree 222 of 400\n",
      "building tree 223 of 400\n",
      "building tree 224 of 400\n",
      "building tree 225 of 400\n",
      "building tree 226 of 400\n",
      "building tree 227 of 400\n",
      "building tree 228 of 400\n",
      "building tree 229 of 400\n",
      "building tree 230 of 400\n",
      "building tree 231 of 400\n",
      "building tree 232 of 400\n",
      "building tree 233 of 400\n",
      "building tree 234 of 400\n",
      "building tree 235 of 400\n",
      "building tree 236 of 400\n",
      "building tree 237 of 400\n",
      "building tree 238 of 400\n",
      "building tree 239 of 400\n",
      "building tree 240 of 400\n",
      "building tree 241 of 400\n",
      "building tree 242 of 400\n",
      "building tree 243 of 400\n",
      "building tree 244 of 400\n",
      "building tree 245 of 400\n",
      "building tree 246 of 400\n",
      "building tree 247 of 400\n",
      "building tree 248 of 400\n",
      "building tree 249 of 400\n",
      "building tree 250 of 400\n",
      "building tree 251 of 400\n",
      "building tree 252 of 400\n",
      "building tree 253 of 400\n",
      "building tree 254 of 400\n",
      "building tree 255 of 400\n",
      "building tree 256 of 400\n",
      "building tree 257 of 400\n",
      "building tree 258 of 400\n",
      "building tree 259 of 400\n",
      "building tree 260 of 400\n",
      "building tree 261 of 400\n",
      "building tree 262 of 400\n",
      "building tree 263 of 400\n",
      "building tree 264 of 400\n",
      "building tree 265 of 400\n",
      "building tree 266 of 400\n",
      "building tree 267 of 400\n",
      "building tree 268 of 400\n",
      "building tree 269 of 400\n",
      "building tree 270 of 400\n",
      "building tree 271 of 400\n",
      "building tree 272 of 400\n",
      "building tree 273 of 400\n",
      "building tree 274 of 400\n",
      "building tree 275 of 400\n",
      "building tree 276 of 400\n",
      "building tree 277 of 400\n",
      "building tree 278 of 400\n",
      "building tree 279 of 400\n",
      "building tree 280 of 400\n",
      "building tree 281 of 400\n",
      "building tree 282 of 400\n",
      "building tree 283 of 400\n",
      "building tree 284 of 400\n",
      "building tree 285 of 400\n",
      "building tree 286 of 400\n",
      "building tree 287 of 400\n",
      "building tree 288 of 400\n",
      "building tree 289 of 400\n",
      "building tree 290 of 400\n",
      "building tree 291 of 400\n",
      "building tree 292 of 400\n",
      "building tree 293 of 400\n",
      "building tree 294 of 400\n",
      "building tree 295 of 400\n",
      "building tree 296 of 400\n",
      "building tree 297 of 400\n",
      "building tree 298 of 400\n",
      "building tree 299 of 400\n",
      "building tree 300 of 400\n",
      "building tree 301 of 400\n",
      "building tree 302 of 400\n",
      "building tree 303 of 400\n",
      "building tree 304 of 400\n",
      "building tree 305 of 400\n",
      "building tree 306 of 400\n",
      "building tree 307 of 400\n",
      "building tree 308 of 400\n",
      "building tree 309 of 400\n",
      "building tree 310 of 400\n",
      "building tree 311 of 400\n",
      "building tree 312 of 400\n",
      "building tree 313 of 400\n",
      "building tree 314 of 400\n",
      "building tree 315 of 400\n",
      "building tree 316 of 400\n",
      "building tree 317 of 400\n",
      "building tree 318 of 400\n",
      "building tree 319 of 400\n",
      "building tree 320 of 400\n",
      "building tree 321 of 400\n",
      "building tree 322 of 400\n",
      "building tree 323 of 400\n",
      "building tree 324 of 400\n",
      "building tree 325 of 400\n",
      "building tree 326 of 400\n",
      "building tree 327 of 400\n",
      "building tree 328 of 400\n",
      "building tree 329 of 400\n",
      "building tree 330 of 400\n",
      "building tree 331 of 400\n",
      "building tree 332 of 400\n",
      "building tree 333 of 400\n",
      "building tree 334 of 400\n",
      "building tree 335 of 400\n",
      "building tree 336 of 400\n",
      "building tree 337 of 400\n",
      "building tree 338 of 400\n",
      "building tree 339 of 400\n",
      "building tree 340 of 400\n",
      "building tree 341 of 400\n",
      "building tree 342 of 400\n",
      "building tree 343 of 400\n",
      "building tree 344 of 400\n",
      "building tree 345 of 400\n",
      "building tree 346 of 400\n",
      "building tree 347 of 400\n",
      "building tree 348 of 400\n",
      "building tree 349 of 400\n",
      "building tree 350 of 400\n",
      "building tree 351 of 400\n",
      "building tree 352 of 400\n",
      "building tree 353 of 400\n",
      "building tree 354 of 400\n",
      "building tree 355 of 400\n",
      "building tree 356 of 400\n",
      "building tree 357 of 400\n",
      "building tree 358 of 400\n",
      "building tree 359 of 400\n",
      "building tree 360 of 400\n"
     ]
    },
    {
     "name": "stderr",
     "output_type": "stream",
     "text": [
      "[Parallel(n_jobs=5)]: Done 355 tasks      | elapsed:  6.1min\n"
     ]
    },
    {
     "name": "stdout",
     "output_type": "stream",
     "text": [
      "building tree 361 of 400\n",
      "building tree 362 of 400\n",
      "building tree 363 of 400\n",
      "building tree 364 of 400\n",
      "building tree 365 of 400\n",
      "building tree 366 of 400\n",
      "building tree 367 of 400\n",
      "building tree 368 of 400\n",
      "building tree 369 of 400\n",
      "building tree 370 of 400\n",
      "building tree 371 of 400\n",
      "building tree 372 of 400\n",
      "building tree 373 of 400\n",
      "building tree 374 of 400\n",
      "building tree 375 of 400\n",
      "building tree 376 of 400\n",
      "building tree 377 of 400\n",
      "building tree 378 of 400\n",
      "building tree 379 of 400\n",
      "building tree 380 of 400\n",
      "building tree 381 of 400\n",
      "building tree 382 of 400\n",
      "building tree 383 of 400\n",
      "building tree 384 of 400\n",
      "building tree 385 of 400\n",
      "building tree 386 of 400\n",
      "building tree 387 of 400\n",
      "building tree 388 of 400\n",
      "building tree 389 of 400\n",
      "building tree 390 of 400\n",
      "building tree 391 of 400\n",
      "building tree 392 of 400\n",
      "building tree 393 of 400\n",
      "building tree 394 of 400\n",
      "building tree 395 of 400\n",
      "building tree 396 of 400\n",
      "building tree 397 of 400\n",
      "building tree 398 of 400\n",
      "building tree 399 of 400\n",
      "building tree 400 of 400\n"
     ]
    },
    {
     "name": "stderr",
     "output_type": "stream",
     "text": [
      "[Parallel(n_jobs=5)]: Done 400 out of 400 | elapsed:  6.9min finished\n"
     ]
    },
    {
     "data": {
      "text/plain": [
       "RandomForestClassifier(bootstrap=True, class_weight=None, criterion='gini',\n",
       "            max_depth=None, max_features='auto', max_leaf_nodes=None,\n",
       "            min_samples_leaf=1, min_samples_split=2,\n",
       "            min_weight_fraction_leaf=0.0, n_estimators=400, n_jobs=5,\n",
       "            oob_score=False, random_state=42, verbose=2, warm_start=False)"
      ]
     },
     "execution_count": 57,
     "metadata": {},
     "output_type": "execute_result"
    },
    {
     "name": "stdout",
     "output_type": "stream",
     "text": [
      "time: 6min 54s\n"
     ]
    }
   ],
   "source": [
    "# Fit model\n",
    "clf.fit(train[X_rf], train[y])"
   ]
  },
  {
   "cell_type": "code",
   "execution_count": 54,
   "metadata": {
    "collapsed": false,
    "scrolled": true
   },
   "outputs": [
    {
     "name": "stderr",
     "output_type": "stream",
     "text": [
      "[Parallel(n_jobs=5)]: Done  31 tasks      | elapsed:    0.0s\n",
      "[Parallel(n_jobs=5)]: Done 152 tasks      | elapsed:    0.2s\n",
      "[Parallel(n_jobs=5)]: Done 355 tasks      | elapsed:    0.4s\n",
      "[Parallel(n_jobs=5)]: Done 638 tasks      | elapsed:    0.6s\n"
     ]
    },
    {
     "name": "stdout",
     "output_type": "stream",
     "text": [
      "time: 1.17 s\n"
     ]
    },
    {
     "name": "stderr",
     "output_type": "stream",
     "text": [
      "[Parallel(n_jobs=5)]: Done 1000 out of 1000 | elapsed:    1.0s finished\n"
     ]
    }
   ],
   "source": [
    "# Get prediction. We want the probability of outcome being 1\n",
    "pred = clf.predict_proba(test[X_rf])\n",
    "pred1 = pred[:,1]"
   ]
  },
  {
   "cell_type": "code",
   "execution_count": 55,
   "metadata": {
    "collapsed": false
   },
   "outputs": [
    {
     "data": {
      "text/plain": [
       "0.79313538954943297"
      ]
     },
     "execution_count": 55,
     "metadata": {},
     "output_type": "execute_result"
    },
    {
     "name": "stdout",
     "output_type": "stream",
     "text": [
      "time: 5.17 ms\n"
     ]
    }
   ],
   "source": [
    "# Get the AUC score of the prediction\n",
    "roc_auc_score(test['outcome_1'], pred1)\n",
    "# top: 0.86696970648515448"
   ]
  },
  {
   "cell_type": "code",
   "execution_count": 50,
   "metadata": {
    "collapsed": true
   },
   "outputs": [
    {
     "data": {
      "text/plain": [
       "['activity',\n",
       " 'char_act_pca1',\n",
       " 'char_4_y',\n",
       " 'date_count',\n",
       " 'date_mean',\n",
       " 'char_3_y',\n",
       " 'date',\n",
       " 'date_num',\n",
       " 'char_8_y',\n",
       " 'date_count_y',\n",
       " 'true_count',\n",
       " 'false_count',\n",
       " 'date_y',\n",
       " 'binary_sum',\n",
       " 'char_sum',\n",
       " 'people',\n",
       " 'char_6_y',\n",
       " 'bool_count',\n",
       " 'date_mean_y',\n",
       " 'char_7_y',\n",
       " 'dummy_pca_1',\n",
       " 'dummy_pca_0',\n",
       " 'char_2_y',\n",
       " 'group_1',\n",
       " 'char_38_scaled']"
      ]
     },
     "execution_count": 50,
     "metadata": {},
     "output_type": "execute_result"
    },
    {
     "name": "stdout",
     "output_type": "stream",
     "text": [
      "time: 686 ms\n"
     ]
    }
   ],
   "source": [
    "# Get the most important features after fitting the random forest model\n",
    "X_rf = [x[0] for x in sorted(zip(X_all1,clf.feature_importances_), key=lambda xx: xx[1])][-25:]\n",
    "X_rf"
   ]
  },
  {
   "cell_type": "code",
   "execution_count": 23,
   "metadata": {
    "collapsed": false
   },
   "outputs": [
    {
     "data": {
      "text/plain": [
       "['date_mean',\n",
       " 'char_pca5',\n",
       " 'char_5_y',\n",
       " 'char_4_y',\n",
       " 'char_3_y',\n",
       " 'char_9_y',\n",
       " 'char_pca_sum',\n",
       " 'binary_sum',\n",
       " 'bool_count',\n",
       " 'date',\n",
       " 'true_count',\n",
       " 'date_num',\n",
       " 'char_8_y',\n",
       " 'false_count',\n",
       " 'date_y',\n",
       " 'char_6_y',\n",
       " 'date_count_y',\n",
       " 'people',\n",
       " 'char_sum',\n",
       " 'char_pca0',\n",
       " 'char_7_y',\n",
       " 'date_mean_y',\n",
       " 'char_2_y',\n",
       " 'group_1',\n",
       " 'char_38_scaled']"
      ]
     },
     "execution_count": 23,
     "metadata": {},
     "output_type": "execute_result"
    },
    {
     "name": "stdout",
     "output_type": "stream",
     "text": [
      "time: 130 ms\n"
     ]
    }
   ],
   "source": [
    "# Best performing random forest features that I have found\n",
    "X_rf = ['date_mean',\n",
    "         'char_pca5',\n",
    "         'char_5_y',\n",
    "         'char_4_y',\n",
    "         'char_3_y',\n",
    "         'char_9_y',\n",
    "         'char_pca_sum',\n",
    "         'binary_sum',\n",
    "         'bool_count',\n",
    "         'date',\n",
    "         'true_count',\n",
    "         'date_num',\n",
    "         'char_8_y',\n",
    "         'false_count',\n",
    "         'date_y',\n",
    "         'char_6_y',\n",
    "         'date_count_y',\n",
    "         'people',\n",
    "         'char_sum',\n",
    "         'char_pca0',\n",
    "         'char_7_y',\n",
    "         'date_mean_y',\n",
    "         'char_2_y',\n",
    "         'group_1',\n",
    "         'char_38_scaled']\n",
    "X_rf"
   ]
  },
  {
   "cell_type": "markdown",
   "metadata": {},
   "source": [
    "# XGBoost Model"
   ]
  },
  {
   "cell_type": "code",
   "execution_count": 22,
   "metadata": {
    "collapsed": false
   },
   "outputs": [
    {
     "name": "stdout",
     "output_type": "stream",
     "text": [
      "time: 8.27 s\n"
     ]
    }
   ],
   "source": [
    "# Create DMatrix for xgboost\n",
    "# Initially set X_xgb to X_all. Train the model, get the most important features and recreate dtrain/dtest\n",
    "X_xgb = X_all\n",
    "dtrain = xgb.DMatrix(train[X_xgb], label=train[y], missing=-999, feature_names=X_xgb)\n",
    "dtest = xgb.DMatrix(test[X_xgb], label=test['outcome_1'], missing=-999, feature_names=X_xgb)"
   ]
  },
  {
   "cell_type": "code",
   "execution_count": 23,
   "metadata": {
    "collapsed": false
   },
   "outputs": [
    {
     "name": "stdout",
     "output_type": "stream",
     "text": [
      "time: 6.71 ms\n"
     ]
    }
   ],
   "source": [
    "# Best performing parameters\n",
    "params = {\n",
    "    \"n_estimators\":20,\n",
    "    \"nthread\":5,\n",
    "    \"objective\": \"binary:logistic\",\n",
    "    \"max_depth\": 35,\n",
    "    #\"gamma\":0.1,\n",
    "    #\"lambda\":0.8,\n",
    "    \"alpha\":0.1,\n",
    "    #\"booster\" : \"gbtree\",\n",
    "    \"eval_metric\": \"auc\",\n",
    "    #\"eta\": 0.25,\n",
    "    \"tree_method\": 'exact',\n",
    "    #\"subsample\": 0.7,\n",
    "    #\"colsample_bytree\": 0.7,\n",
    "    \"silent\": 0\n",
    "}\n",
    "watchlist = [(dtest, 'eval')]"
   ]
  },
  {
   "cell_type": "code",
   "execution_count": 24,
   "metadata": {
    "collapsed": true
   },
   "outputs": [
    {
     "name": "stdout",
     "output_type": "stream",
     "text": [
      "[0]\teval-auc:0.742668\n",
      "Will train until eval-auc hasn't improved in 5 rounds.\n",
      "[1]\teval-auc:0.762115\n",
      "[2]\teval-auc:0.785864\n",
      "[3]\teval-auc:0.798143\n",
      "[4]\teval-auc:0.801476\n",
      "[5]\teval-auc:0.80308\n",
      "[6]\teval-auc:0.805859\n",
      "[7]\teval-auc:0.808213\n",
      "[8]\teval-auc:0.812026\n",
      "[9]\teval-auc:0.812419\n",
      "[10]\teval-auc:0.815032\n",
      "[11]\teval-auc:0.819707\n",
      "[12]\teval-auc:0.822733\n",
      "[13]\teval-auc:0.824201\n",
      "[14]\teval-auc:0.826853\n",
      "[15]\teval-auc:0.827457\n",
      "[16]\teval-auc:0.826543\n",
      "[17]\teval-auc:0.828383\n",
      "[18]\teval-auc:0.829879\n",
      "[19]\teval-auc:0.830047\n",
      "[20]\teval-auc:0.830418\n",
      "[21]\teval-auc:0.83169\n",
      "[22]\teval-auc:0.833172\n",
      "[23]\teval-auc:0.833469\n"
     ]
    },
    {
     "ename": "KeyboardInterrupt",
     "evalue": "",
     "output_type": "error",
     "traceback": [
      "\u001b[1;31m---------------------------------------------------------------------------\u001b[0m",
      "\u001b[1;31mKeyboardInterrupt\u001b[0m                         Traceback (most recent call last)",
      "\u001b[1;32m<ipython-input-24-1f92fba89bc5>\u001b[0m in \u001b[0;36m<module>\u001b[1;34m()\u001b[0m\n\u001b[0;32m      1\u001b[0m gbm = xgb.train(params=params, dtrain=dtrain, num_boost_round=300, evals=watchlist, early_stopping_rounds=5,\n\u001b[1;32m----> 2\u001b[1;33m                 verbose_eval=True)\n\u001b[0m\u001b[0;32m      3\u001b[0m \u001b[1;33m\u001b[0m\u001b[0m\n\u001b[0;32m      4\u001b[0m \u001b[1;31m# top dtrain_1: [80]    eval-auc:0.789187\u001b[0m\u001b[1;33m\u001b[0m\u001b[1;33m\u001b[0m\u001b[0m\n\u001b[0;32m      5\u001b[0m \u001b[1;31m# top dtrain_2: [54]    eval-auc:0.832282\u001b[0m\u001b[1;33m\u001b[0m\u001b[1;33m\u001b[0m\u001b[0m\n",
      "\u001b[1;32m/usr/local/lib/python2.7/dist-packages/xgboost-0.4-py2.7.egg/xgboost/training.pyc\u001b[0m in \u001b[0;36mtrain\u001b[1;34m(params, dtrain, num_boost_round, evals, obj, feval, maximize, early_stopping_rounds, evals_result, verbose_eval, learning_rates, xgb_model, callbacks)\u001b[0m\n\u001b[0;32m    203\u001b[0m                            \u001b[0mevals\u001b[0m\u001b[1;33m=\u001b[0m\u001b[0mevals\u001b[0m\u001b[1;33m,\u001b[0m\u001b[1;33m\u001b[0m\u001b[0m\n\u001b[0;32m    204\u001b[0m                            \u001b[0mobj\u001b[0m\u001b[1;33m=\u001b[0m\u001b[0mobj\u001b[0m\u001b[1;33m,\u001b[0m \u001b[0mfeval\u001b[0m\u001b[1;33m=\u001b[0m\u001b[0mfeval\u001b[0m\u001b[1;33m,\u001b[0m\u001b[1;33m\u001b[0m\u001b[0m\n\u001b[1;32m--> 205\u001b[1;33m                            xgb_model=xgb_model, callbacks=callbacks)\n\u001b[0m\u001b[0;32m    206\u001b[0m \u001b[1;33m\u001b[0m\u001b[0m\n\u001b[0;32m    207\u001b[0m \u001b[1;33m\u001b[0m\u001b[0m\n",
      "\u001b[1;32m/usr/local/lib/python2.7/dist-packages/xgboost-0.4-py2.7.egg/xgboost/training.pyc\u001b[0m in \u001b[0;36m_train_internal\u001b[1;34m(params, dtrain, num_boost_round, evals, obj, feval, xgb_model, callbacks)\u001b[0m\n\u001b[0;32m     74\u001b[0m         \u001b[1;31m# Skip the first update if it is a recovery step.\u001b[0m\u001b[1;33m\u001b[0m\u001b[1;33m\u001b[0m\u001b[0m\n\u001b[0;32m     75\u001b[0m         \u001b[1;32mif\u001b[0m \u001b[0mversion\u001b[0m \u001b[1;33m%\u001b[0m \u001b[1;36m2\u001b[0m \u001b[1;33m==\u001b[0m \u001b[1;36m0\u001b[0m\u001b[1;33m:\u001b[0m\u001b[1;33m\u001b[0m\u001b[0m\n\u001b[1;32m---> 76\u001b[1;33m             \u001b[0mbst\u001b[0m\u001b[1;33m.\u001b[0m\u001b[0mupdate\u001b[0m\u001b[1;33m(\u001b[0m\u001b[0mdtrain\u001b[0m\u001b[1;33m,\u001b[0m \u001b[0mi\u001b[0m\u001b[1;33m,\u001b[0m \u001b[0mobj\u001b[0m\u001b[1;33m)\u001b[0m\u001b[1;33m\u001b[0m\u001b[0m\n\u001b[0m\u001b[0;32m     77\u001b[0m             \u001b[0mbst\u001b[0m\u001b[1;33m.\u001b[0m\u001b[0msave_rabit_checkpoint\u001b[0m\u001b[1;33m(\u001b[0m\u001b[1;33m)\u001b[0m\u001b[1;33m\u001b[0m\u001b[0m\n\u001b[0;32m     78\u001b[0m             \u001b[0mversion\u001b[0m \u001b[1;33m+=\u001b[0m \u001b[1;36m1\u001b[0m\u001b[1;33m\u001b[0m\u001b[0m\n",
      "\u001b[1;32m/usr/local/lib/python2.7/dist-packages/xgboost-0.4-py2.7.egg/xgboost/core.pyc\u001b[0m in \u001b[0;36mupdate\u001b[1;34m(self, dtrain, iteration, fobj)\u001b[0m\n\u001b[0;32m    804\u001b[0m \u001b[1;33m\u001b[0m\u001b[0m\n\u001b[0;32m    805\u001b[0m         \u001b[1;32mif\u001b[0m \u001b[0mfobj\u001b[0m \u001b[1;32mis\u001b[0m \u001b[0mNone\u001b[0m\u001b[1;33m:\u001b[0m\u001b[1;33m\u001b[0m\u001b[0m\n\u001b[1;32m--> 806\u001b[1;33m             \u001b[0m_check_call\u001b[0m\u001b[1;33m(\u001b[0m\u001b[0m_LIB\u001b[0m\u001b[1;33m.\u001b[0m\u001b[0mXGBoosterUpdateOneIter\u001b[0m\u001b[1;33m(\u001b[0m\u001b[0mself\u001b[0m\u001b[1;33m.\u001b[0m\u001b[0mhandle\u001b[0m\u001b[1;33m,\u001b[0m \u001b[0miteration\u001b[0m\u001b[1;33m,\u001b[0m \u001b[0mdtrain\u001b[0m\u001b[1;33m.\u001b[0m\u001b[0mhandle\u001b[0m\u001b[1;33m)\u001b[0m\u001b[1;33m)\u001b[0m\u001b[1;33m\u001b[0m\u001b[0m\n\u001b[0m\u001b[0;32m    807\u001b[0m         \u001b[1;32melse\u001b[0m\u001b[1;33m:\u001b[0m\u001b[1;33m\u001b[0m\u001b[0m\n\u001b[0;32m    808\u001b[0m             \u001b[0mpred\u001b[0m \u001b[1;33m=\u001b[0m \u001b[0mself\u001b[0m\u001b[1;33m.\u001b[0m\u001b[0mpredict\u001b[0m\u001b[1;33m(\u001b[0m\u001b[0mdtrain\u001b[0m\u001b[1;33m)\u001b[0m\u001b[1;33m\u001b[0m\u001b[0m\n",
      "\u001b[1;31mKeyboardInterrupt\u001b[0m: "
     ]
    },
    {
     "name": "stdout",
     "output_type": "stream",
     "text": [
      "time: 7min 24s\n"
     ]
    }
   ],
   "source": [
    "# Train the xgboost model\n",
    "gbm = xgb.train(params=params, dtrain=dtrain, num_boost_round=300, evals=watchlist, early_stopping_rounds=5,\n",
    "                verbose_eval=True)"
   ]
  },
  {
   "cell_type": "code",
   "execution_count": 35,
   "metadata": {
    "collapsed": false
   },
   "outputs": [
    {
     "data": {
      "text/plain": [
       "<matplotlib.axes._subplots.AxesSubplot at 0x7f31f253ac10>"
      ]
     },
     "execution_count": 35,
     "metadata": {},
     "output_type": "execute_result"
    },
    {
     "data": {
      "image/png": "[encoded data removed]",
      "text/plain": [
       "<matplotlib.figure.Figure at 0x7f31f2519c90>"
      ]
     },
     "metadata": {},
     "output_type": "display_data"
    },
    {
     "name": "stdout",
     "output_type": "stream",
     "text": [
      "time: 2.33 s\n"
     ]
    }
   ],
   "source": [
    "# Feature importances\n",
    "xgb.plot_importance(gbm)"
   ]
  },
  {
   "cell_type": "code",
   "execution_count": 37,
   "metadata": {
    "collapsed": false
   },
   "outputs": [
    {
     "data": {
      "text/plain": [
       "['char_10_y',\n",
       " 'char_12',\n",
       " 'unique_group',\n",
       " 'char_2_y',\n",
       " 'year_x',\n",
       " 'activity_category',\n",
       " 'char_6_y',\n",
       " 'char_5_y',\n",
       " 'char_x',\n",
       " 'char_9_y',\n",
       " 'char_8_y',\n",
       " 'char_4_y',\n",
       " 'char_3_y',\n",
       " 'activity',\n",
       " 'char_7_y',\n",
       " 'char_sum',\n",
       " 'day_x',\n",
       " 'month_x',\n",
       " 'date_diff',\n",
       " 'date_count',\n",
       " 'date_mean',\n",
       " 'char_38_scaled',\n",
       " 'date_count_y',\n",
       " 'dummy_pca_1',\n",
       " 'date_mean_y',\n",
       " 'date_y',\n",
       " 'dummy_pca_0',\n",
       " 'people',\n",
       " 'group_1',\n",
       " 'date']"
      ]
     },
     "execution_count": 37,
     "metadata": {},
     "output_type": "execute_result"
    },
    {
     "name": "stdout",
     "output_type": "stream",
     "text": [
      "time: 4.44 s\n"
     ]
    }
   ],
   "source": [
    "# Reassign most important features to X_xgb to reduce dimensions\n",
    "# Comment out X_xgb=X_all and recreate dtrain/dtest above\n",
    "X_xgb = [x[0] for x in sorted(gbm.get_fscore().items(), key=lambda xx: xx[1])][-30:]\n",
    "X_xgb"
   ]
  },
  {
   "cell_type": "code",
   "execution_count": 40,
   "metadata": {
    "collapsed": false
   },
   "outputs": [
    {
     "name": "stdout",
     "output_type": "stream",
     "text": [
      "time: 4.27 ms\n"
     ]
    }
   ],
   "source": [
    "# Predict dtest\n",
    "pred2 = gbm.predict(dtest)"
   ]
  },
  {
   "cell_type": "code",
   "execution_count": 41,
   "metadata": {
    "collapsed": false
   },
   "outputs": [
    {
     "data": {
      "text/plain": [
       "0.85764040943053221"
      ]
     },
     "execution_count": 41,
     "metadata": {},
     "output_type": "execute_result"
    },
    {
     "name": "stdout",
     "output_type": "stream",
     "text": [
      "time: 273 ms\n"
     ]
    }
   ],
   "source": [
    "# Get AUC score\n",
    "roc_auc_score(test['outcome_1'], pred2)\n",
    "\n",
    "# top: 0.87201777216771759"
   ]
  },
  {
   "cell_type": "markdown",
   "metadata": {},
   "source": [
    "# Generate Submission"
   ]
  },
  {
   "cell_type": "code",
   "execution_count": 24,
   "metadata": {
    "collapsed": false
   },
   "outputs": [
    {
     "name": "stdout",
     "output_type": "stream",
     "text": [
      "time: 15.8 ms\n"
     ]
    }
   ],
   "source": [
    "# This is for generating submission only\n",
    "submission = pd.DataFrame()\n",
    "submission['activity_id'] = test['activity_id']\n",
    "submission['outcome'] = pred4"
   ]
  },
  {
   "cell_type": "code",
   "execution_count": 25,
   "metadata": {
    "collapsed": false
   },
   "outputs": [
    {
     "name": "stdout",
     "output_type": "stream",
     "text": [
      "time: 4.31 s\n"
     ]
    }
   ],
   "source": [
    "# Since we merged the test rows with known outcomes into the train dataframe we need to reread the test file\n",
    "test2 = pd.read_csv('test_pca_outcome.csv')\n",
    "# Append known outcome values from test file\n",
    "submission = submission.append(test2[test2.outcome!=-1][['activity_id', 'outcome']])"
   ]
  },
  {
   "cell_type": "code",
   "execution_count": 26,
   "metadata": {
    "collapsed": false
   },
   "outputs": [
    {
     "name": "stdout",
     "output_type": "stream",
     "text": [
      "time: 1.2 s\n"
     ]
    }
   ],
   "source": [
    "# Write submission\n",
    "# My filename convention has been \"submission<submission number>-<parameters>-<unique features to this solution>.csv\"\n",
    "submission.to_csv('submission-xgboost-n_est20-max_depth35-alpha0.1-outcome-dates-2.csv', index=False)"
   ]
  },
  {
   "cell_type": "code",
   "execution_count": null,
   "metadata": {
    "collapsed": true
   },
   "outputs": [],
   "source": []
  }
 ],
 "metadata": {
  "kernelspec": {
   "display_name": "Python 2",
   "language": "python",
   "name": "python2"
  },
  "language_info": {
   "codemirror_mode": {
    "name": "ipython",
    "version": 2
   },
   "file_extension": ".py",
   "mimetype": "text/x-python",
   "name": "python",
   "nbconvert_exporter": "python",
   "pygments_lexer": "ipython2",
   "version": "2.7.9"
  }
 },
 "nbformat": 4,
 "nbformat_minor": 0
}
